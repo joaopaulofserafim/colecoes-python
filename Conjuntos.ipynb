{
  "nbformat": 4,
  "nbformat_minor": 0,
  "metadata": {
    "colab": {
      "provenance": [],
      "authorship_tag": "ABX9TyPivKXoDWIefWcZGmusTmbT",
      "include_colab_link": true
    },
    "kernelspec": {
      "name": "python3",
      "display_name": "Python 3"
    },
    "language_info": {
      "name": "python"
    }
  },
  "cells": [
    {
      "cell_type": "markdown",
      "metadata": {
        "id": "view-in-github",
        "colab_type": "text"
      },
      "source": [
        "<a href=\"https://colab.research.google.com/github/joaopaulofserafim/colecoes-python/blob/main/Conjuntos.ipynb\" target=\"_parent\"><img src=\"https://colab.research.google.com/assets/colab-badge.svg\" alt=\"Open In Colab\"/></a>"
      ]
    },
    {
      "cell_type": "markdown",
      "source": [
        "\n",
        " # Conjunto em pyhton\n",
        " ## Um conjunto em Python é uma coleção não ordenada e sem elementos duplicados, útil para armazenar múltiplos itens e garantir que cada um seja único. Conjuntos são definidos pela palavra-chave `set()` ou usando chaves `{}`, e contêm apenas valores, sem pares. Eles são bem eficientes para verificar a presença de um item, pois garantem que não haverá duplicatas.\n"
      ],
      "metadata": {
        "id": "imvMVOrnU4Av"
      }
    },
    {
      "cell_type": "markdown",
      "source": [
        "## Exemplo de conjunto"
      ],
      "metadata": {
        "id": "QJ2ivi_JWafu"
      }
    },
    {
      "cell_type": "code",
      "source": [
        "desenhos = {\"Carros\", \"Divertidademente\", \"Bob Esponja\", \"Os Incrivéis\"}"
      ],
      "metadata": {
        "id": "oLrzFM7KWlY1"
      },
      "execution_count": null,
      "outputs": []
    },
    {
      "cell_type": "markdown",
      "source": [
        "## Imprimindo o conjunto\n"
      ],
      "metadata": {
        "id": "BHs_yRMYYnwm"
      }
    },
    {
      "cell_type": "code",
      "source": [
        "print(desenhos);"
      ],
      "metadata": {
        "colab": {
          "base_uri": "https://localhost:8080/"
        },
        "id": "OFMWkLscYrg5",
        "outputId": "2c32e027-6699-4a0d-c72c-dff96cb20212"
      },
      "execution_count": null,
      "outputs": [
        {
          "output_type": "stream",
          "name": "stdout",
          "text": [
            "{'Bob Esponja', 'Divertidademente', 'Carros', 'Os Incrivéis'}\n"
          ]
        }
      ]
    },
    {
      "cell_type": "markdown",
      "source": [
        "## Tipo do conjunto"
      ],
      "metadata": {
        "id": "bTK0MwA5Y9BQ"
      }
    },
    {
      "cell_type": "code",
      "source": [
        "print(desenhos)\n",
        "print(type(desenhos))"
      ],
      "metadata": {
        "colab": {
          "base_uri": "https://localhost:8080/"
        },
        "id": "6WHdmNzoY__G",
        "outputId": "e1d1c6ea-3e59-4777-f4c4-843c5bae896d"
      },
      "execution_count": null,
      "outputs": [
        {
          "output_type": "stream",
          "name": "stdout",
          "text": [
            "{'Bob Esponja', 'Divertidademente', 'Carros', 'Os Incrivéis'}\n",
            "<class 'set'>\n"
          ]
        }
      ]
    },
    {
      "cell_type": "markdown",
      "source": [
        "# Métodos utilizados em conjuntos\n",
        "\n",
        "\n"
      ],
      "metadata": {
        "id": "lRs0Unbxa-oP"
      }
    },
    {
      "cell_type": "markdown",
      "source": [
        "## CLEAR\n",
        "\n",
        "### Método utilizado para limpar todos os itens de um conjunto."
      ],
      "metadata": {
        "id": "2-efHRRYbcDu"
      }
    },
    {
      "cell_type": "code",
      "source": [
        "c1 = {\n",
        "    \"João\", \"Pedro\", \"Joaquim\"\n",
        "}\n",
        "\n",
        "c2 = {\n",
        "    \"Luis\", \"Carlos\", \"Bernardo\", \"Nicolas\"\n",
        "}\n",
        "\n",
        "c1.clear()\n",
        "\n",
        "print(c1, c2)"
      ],
      "metadata": {
        "colab": {
          "base_uri": "https://localhost:8080/"
        },
        "id": "uJBoeHJ-bxhQ",
        "outputId": "e0e3b674-d795-4781-c061-ed784f66a13c"
      },
      "execution_count": null,
      "outputs": [
        {
          "output_type": "stream",
          "name": "stdout",
          "text": [
            "set() {'Nicolas', 'Carlos', 'Luis', 'Bernardo'}\n"
          ]
        }
      ]
    },
    {
      "cell_type": "markdown",
      "source": [
        "## ISSUPERSET\n",
        "\n",
        "### O método issuperset em Python é usado para verificar se um conjunto é um superconjunto de outro conjunto. Ou seja, ele verifica se todos os elementos do conjunto especificado estão presentes no conjunto que chama o método."
      ],
      "metadata": {
        "id": "UBpehseCdSz9"
      }
    },
    {
      "cell_type": "code",
      "source": [
        "c1 = {\n",
        "    \"João\", \"Pedro\", \"Yuri\",\n",
        "}\n",
        "\n",
        "c2 = {\n",
        "    \"João\", \"Pedro\", \"Yuri\", \"Lucas\"\n",
        "}\n",
        "\n",
        "c3 = c1.issuperset(c2)\n",
        "\n",
        "print(c3)"
      ],
      "metadata": {
        "colab": {
          "base_uri": "https://localhost:8080/"
        },
        "id": "SR4p0SwNmntp",
        "outputId": "2e446f58-4517-4957-8ba4-2d9cfb4abf12"
      },
      "execution_count": null,
      "outputs": [
        {
          "output_type": "stream",
          "name": "stdout",
          "text": [
            "False\n"
          ]
        }
      ]
    },
    {
      "cell_type": "markdown",
      "source": [
        "## ISSUBSET\n",
        "\n",
        "### O método issubset() em Python é usado para verificar se um conjunto é subconjunto de outro. Ou seja, ele retorna True se todos os elementos do conjunto de origem estiverem presentes no conjunto especificado, caso contrário, retorna False."
      ],
      "metadata": {
        "id": "Rvm9m5awn2er"
      }
    },
    {
      "cell_type": "code",
      "source": [
        "c1 = {\n",
        "    \"João\", \"Pedro\", \"Yuri\",\n",
        "}\n",
        "\n",
        "c2 = {\n",
        "    \"João\", \"Pedro\", \"Yuri\", \"Lucas\"\n",
        "}\n",
        "\n",
        "c3 = c1.issubset(c2)\n",
        "\n",
        "print(c3)"
      ],
      "metadata": {
        "colab": {
          "base_uri": "https://localhost:8080/"
        },
        "id": "XFxgJ8k6okFy",
        "outputId": "eb1bceb4-4c3e-4f14-f315-e5bf31ea28b0"
      },
      "execution_count": null,
      "outputs": [
        {
          "output_type": "stream",
          "name": "stdout",
          "text": [
            "False\n"
          ]
        }
      ]
    },
    {
      "cell_type": "markdown",
      "source": [
        "## SYMMETRIC_DIFFERENCE\n",
        "\n",
        "### método para retornar um conjunto que contenha valores com diferença simétrica entre os dois conjuntos, ou seja, ele irá comparar os itens de cada conjunto , e retonar os itens que não são iguais entre os dois conjuntos"
      ],
      "metadata": {
        "id": "wVbAnkgbo1jw"
      }
    },
    {
      "cell_type": "code",
      "source": [
        "c1 = {\n",
        "    \"João\", \"Luiz\", \"Lucas\", \"Vitor\"\n",
        "}\n",
        "\n",
        "c2 = {\n",
        "    \"Luiz\", \"Vitor\", \"João\"\n",
        "}\n",
        "\n",
        "dif_sime = c1.symmetric_difference(c2)\n",
        "print(dif_sime)"
      ],
      "metadata": {
        "colab": {
          "base_uri": "https://localhost:8080/"
        },
        "id": "Tcct0jlwpior",
        "outputId": "94e517c5-5c01-49a1-dc3a-28de1386a366"
      },
      "execution_count": null,
      "outputs": [
        {
          "output_type": "stream",
          "name": "stdout",
          "text": [
            "{'Lucas'}\n"
          ]
        }
      ]
    },
    {
      "cell_type": "markdown",
      "source": [
        "## DIFFERENCE\n",
        "\n",
        "### método para retornar os itens que possui no primeiro conjunto, porém não se repete ao segundo conjunto"
      ],
      "metadata": {
        "id": "D9gPAawcrDph"
      }
    },
    {
      "cell_type": "code",
      "source": [
        "c1 = {\n",
        "    \"João\", \"Denilson\", \"Kleber\", \"Vitor\"\n",
        "}\n",
        "\n",
        "c2 = {\n",
        "    \"Lucas\",\n",
        "}\n",
        "\n",
        "diferenca = c1.difference(c2)\n",
        "print(diferenca)"
      ],
      "metadata": {
        "colab": {
          "base_uri": "https://localhost:8080/"
        },
        "id": "ZJwNzGcyrMY6",
        "outputId": "faf84cdf-d913-4d55-a0b6-ffe2b0284b9c"
      },
      "execution_count": null,
      "outputs": [
        {
          "output_type": "stream",
          "name": "stdout",
          "text": [
            "{'João', 'Vitor', 'Kleber', 'Denilson'}\n"
          ]
        }
      ]
    },
    {
      "cell_type": "markdown",
      "source": [
        "## INTERSECTION\n",
        "\n",
        "### Utilizamos esse método para retornar um item que contém repetição em ambos os conjuntos"
      ],
      "metadata": {
        "id": "AH7rh6Ejsb_i"
      }
    },
    {
      "cell_type": "code",
      "source": [
        "livrosNicholasSparks = {\"O desejo\", \"O retorno\", \"O melhor de mim\",\"O milagre\", \"A última música\", \"A escolha\", \"Um porto seguro\", \"Um homem de sorte\", \"Diario de uma paixão\", \"Noites de tormenta\", \"O guardião\",\"O milagre\"}\n",
        "\n",
        "intersecao = livrosNicholasSparks.intersection(livrosNicholasSparks)\n",
        "print(intersecao)\n"
      ],
      "metadata": {
        "colab": {
          "base_uri": "https://localhost:8080/"
        },
        "id": "MS-cEXw-smGJ",
        "outputId": "a631ad3e-5891-4443-db63-e0b15be72940"
      },
      "execution_count": null,
      "outputs": [
        {
          "output_type": "stream",
          "name": "stdout",
          "text": [
            "{'Um homem de sorte', 'A escolha', 'Diario de uma paixão', 'O retorno', 'O milagre', 'O guardião', 'O melhor de mim', 'O desejo', 'Um porto seguro', 'Noites de tormenta', 'A última música'}\n"
          ]
        }
      ]
    },
    {
      "cell_type": "markdown",
      "source": [
        "## UNION\n",
        "\n",
        "### método para unir dois conjuntos de forma aleatória"
      ],
      "metadata": {
        "id": "ws2WHE2uuqNS"
      }
    },
    {
      "cell_type": "code",
      "source": [
        "Ex1 = {\n",
        "    \"João\" , \"Pedro\", \"Vitor\"\n",
        "}\n",
        "\n",
        "Ex2 = {\n",
        "    \"Giovanna\", \"Nicolli\"\n",
        "}\n",
        "\n",
        "uniao = Ex1.union(Ex2)\n",
        "print(uniao)"
      ],
      "metadata": {
        "colab": {
          "base_uri": "https://localhost:8080/"
        },
        "id": "UksHHUz9uv8b",
        "outputId": "fe066963-0183-4914-e987-6cee95a5ecab"
      },
      "execution_count": null,
      "outputs": [
        {
          "output_type": "stream",
          "name": "stdout",
          "text": [
            "{'Giovanna', 'Nicolli', 'João', 'Vitor', 'Pedro'}\n"
          ]
        }
      ]
    },
    {
      "cell_type": "markdown",
      "source": [
        "## POP\n",
        "\n",
        "###  método para que seja removido um item de forma aleatória pois não podemos definir"
      ],
      "metadata": {
        "id": "X_4O13kzvMkJ"
      }
    },
    {
      "cell_type": "code",
      "source": [
        "lista = {\n",
        "    1, 2, 3, 4, 5\n",
        "}\n",
        "\n",
        "item = lista.pop()\n",
        "print(lista)"
      ],
      "metadata": {
        "colab": {
          "base_uri": "https://localhost:8080/"
        },
        "id": "Hn_0f_D4vUzD",
        "outputId": "cf61e782-916a-40b0-e415-cf0c7cf77abb"
      },
      "execution_count": null,
      "outputs": [
        {
          "output_type": "stream",
          "name": "stdout",
          "text": [
            "1\n",
            "{2, 3, 4, 5}\n"
          ]
        }
      ]
    },
    {
      "cell_type": "markdown",
      "source": [
        "## DISCARD\n",
        "\n",
        "### método para remover o item especificado do conjunto, caso não seja especificado um item que contenha no conjunto, ele não fará nada"
      ],
      "metadata": {
        "id": "DHQcHU0Sw9pa"
      }
    },
    {
      "cell_type": "code",
      "source": [
        "lista = {\n",
        "   \"test\", \"test2\"\n",
        "}\n",
        "\n",
        "discard = lista.discard(\"test\")\n",
        "print(lista)"
      ],
      "metadata": {
        "colab": {
          "base_uri": "https://localhost:8080/"
        },
        "id": "oiBj2omuxDVW",
        "outputId": "bec63d14-a89e-4dff-dea0-a95331a41da4"
      },
      "execution_count": null,
      "outputs": [
        {
          "output_type": "stream",
          "name": "stdout",
          "text": [
            "None\n",
            "{'test2'}\n"
          ]
        }
      ]
    },
    {
      "cell_type": "markdown",
      "source": [
        "## REMOVE\n",
        "\n",
        "### método para remover o item especificado do conjunto, caso não seja especificado ele retornará um erro"
      ],
      "metadata": {
        "id": "ogwXaRPrxvQM"
      }
    },
    {
      "cell_type": "code",
      "source": [
        "lista4 = {\n",
        "    \"João\", \"Pedro\", \"Vitor\", \"Lucas\"\n",
        "}\n",
        "\n",
        "remove = lista4.remove(\"João\")\n",
        "print(lista4)"
      ],
      "metadata": {
        "colab": {
          "base_uri": "https://localhost:8080/"
        },
        "id": "rY4G6CwDx0iE",
        "outputId": "a4f6e17e-f3ee-4537-8330-f8e18215ebe2"
      },
      "execution_count": null,
      "outputs": [
        {
          "output_type": "stream",
          "name": "stdout",
          "text": [
            "None\n",
            "{'Vitor', 'Lucas', 'Pedro'}\n"
          ]
        }
      ]
    },
    {
      "cell_type": "markdown",
      "source": [
        "## ADD\n",
        "### método para adicionar um item ao conjunto\n",
        "\n"
      ],
      "metadata": {
        "id": "HAM9-qrAzPTl"
      }
    },
    {
      "cell_type": "code",
      "source": [
        "lista6 = {\n",
        "    \"Giovanni\", \"Matheus\", \"Yago\"\n",
        "}\n",
        "\n",
        "add = lista6.add(\"João\")\n",
        "print(lista6)"
      ],
      "metadata": {
        "colab": {
          "base_uri": "https://localhost:8080/"
        },
        "id": "lEb6BLGyzVSU",
        "outputId": "03d3c550-7ef3-4999-a604-a89f3c04c5c8"
      },
      "execution_count": null,
      "outputs": [
        {
          "output_type": "stream",
          "name": "stdout",
          "text": [
            "{'Yago', 'Giovanni', 'Matheus', 'João'}\n"
          ]
        }
      ]
    }
  ]
}