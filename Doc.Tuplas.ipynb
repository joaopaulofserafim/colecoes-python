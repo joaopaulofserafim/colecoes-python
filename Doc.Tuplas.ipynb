{
  "cells": [
    {
      "cell_type": "markdown",
      "metadata": {
        "colab_type": "text",
        "id": "view-in-github"
      },
      "source": [
        "<a href=\"https://colab.research.google.com/github/joaopaulofserafim/colecoes-python/blob/main/Tuplas.ipynb\" target=\"_parent\"><img src=\"https://colab.research.google.com/assets/colab-badge.svg\" alt=\"Open In Colab\"/></a>"
      ]
    },
    {
      "cell_type": "markdown",
      "metadata": {
        "id": "XNYWiwR3hq3J"
      },
      "source": [
        "# Tupla em python\n",
        "\n",
        "## Uma tupla em Python é uma coleção ordenada e imutável de elementos, definida usando parênteses `()`. Diferente das listas, uma vez criada, uma tupla não pode ser modificada, sendo ideal para armazenar dados constantes ou estruturas que não devem ser alteradas."
      ]
    },
    {
      "cell_type": "markdown",
      "metadata": {
        "id": "4XJGUeCpiDAA"
      },
      "source": [
        "### Exemplode tupla"
      ]
    },
    {
      "cell_type": "code",
      "execution_count": 2,
      "metadata": {
        "colab": {
          "base_uri": "https://localhost:8080/"
        },
        "id": "LHmUDjXYiFcX",
        "outputId": "4c6f3b25-e9c2-4d57-afbd-c655a8e8ddd1"
      },
      "outputs": [
        {
          "name": "stdout",
          "output_type": "stream",
          "text": [
            "('Nike', 'Adidas', 'Puma', 'Hugo Boss', 'Gucci')\n",
            "<class 'tuple'>\n"
          ]
        }
      ],
      "source": [
        "marcas = (\n",
        "    \"Nike\", \"Adidas\", \"Puma\", \"Hugo Boss\",  \"Gucci\"\n",
        ")\n",
        "\n",
        "### Imprimindo Lista\n",
        "print(marcas)\n",
        "\n",
        "### Imprimindo tipo da lista\n",
        "\n",
        "print(type(marcas))"
      ]
    },
    {
      "cell_type": "markdown",
      "metadata": {
        "id": "AmAtIYa7jMGD"
      },
      "source": [
        "## Funções Tuplas"
      ]
    },
    {
      "cell_type": "markdown",
      "metadata": {
        "id": "pofBtssBjm__"
      },
      "source": [
        "### SORTED()\n",
        "\n",
        "#### função para retornar a tupla de forma ordenada"
      ]
    },
    {
      "cell_type": "code",
      "execution_count": 3,
      "metadata": {
        "colab": {
          "base_uri": "https://localhost:8080/"
        },
        "id": "yDhbYLdHjwxv",
        "outputId": "9b86967d-9e97-4597-8f32-28941b9a7969"
      },
      "outputs": [
        {
          "name": "stdout",
          "output_type": "stream",
          "text": [
            "['Adidas', 'Gucci', 'Hugo Boss', 'Nike', 'Puma']\n"
          ]
        }
      ],
      "source": [
        "print(sorted(marcas))"
      ]
    },
    {
      "cell_type": "markdown",
      "metadata": {
        "id": "jhm07sUtj4Qp"
      },
      "source": [
        "### SUM()\n",
        "\n",
        "#### Função para somar os valores de todos os itens da tupla"
      ]
    },
    {
      "cell_type": "code",
      "execution_count": 7,
      "metadata": {
        "colab": {
          "base_uri": "https://localhost:8080/"
        },
        "id": "4j0tu36pkBkH",
        "outputId": "7c476742-af41-457e-ca5a-e6ac3b216ae5"
      },
      "outputs": [
        {
          "name": "stdout",
          "output_type": "stream",
          "text": [
            "6\n"
          ]
        }
      ],
      "source": [
        "numeros = (1, 2, 3)\n",
        "print(sum(numeros))"
      ]
    },
    {
      "cell_type": "markdown",
      "metadata": {
        "id": "2HATTgrCkJpB"
      },
      "source": [
        "### MIN()\n",
        "\n",
        "#### Função para retornar o item de menor valor da tupla"
      ]
    },
    {
      "cell_type": "code",
      "execution_count": 8,
      "metadata": {
        "colab": {
          "base_uri": "https://localhost:8080/"
        },
        "id": "9KVwa0ZDkPcv",
        "outputId": "df92a299-8023-4cdd-df7b-38ea9008404f"
      },
      "outputs": [
        {
          "name": "stdout",
          "output_type": "stream",
          "text": [
            "1\n"
          ]
        }
      ],
      "source": [
        "print(min(numeros))"
      ]
    },
    {
      "cell_type": "markdown",
      "metadata": {
        "id": "ekGv2JOZkX83"
      },
      "source": [
        "### MAX()\n",
        "\n",
        "#### Função para retornar o item de maior valor da tupla"
      ]
    },
    {
      "cell_type": "code",
      "execution_count": 9,
      "metadata": {
        "colab": {
          "base_uri": "https://localhost:8080/"
        },
        "id": "6dnyF2g3kdKB",
        "outputId": "34731acb-a4ab-41be-8d59-c69afed20f2d"
      },
      "outputs": [
        {
          "name": "stdout",
          "output_type": "stream",
          "text": [
            "3\n"
          ]
        }
      ],
      "source": [
        "print(max(numeros))"
      ]
    },
    {
      "cell_type": "markdown",
      "metadata": {
        "id": "0hSSEMONkogI"
      },
      "source": [
        "## Métodos utilizados nas tuplas"
      ]
    },
    {
      "cell_type": "markdown",
      "metadata": {
        "id": "4tXimKMqksqX"
      },
      "source": [
        "### INDEX\n",
        "\n",
        "#### Método para indicar o indice ou posição em que o item se localiza na tupla"
      ]
    },
    {
      "cell_type": "code",
      "execution_count": 11,
      "metadata": {
        "colab": {
          "base_uri": "https://localhost:8080/"
        },
        "id": "4pivnXobkyNF",
        "outputId": "3df54c17-30f1-4248-b959-0fa521ed35dc"
      },
      "outputs": [
        {
          "name": "stdout",
          "output_type": "stream",
          "text": [
            "2\n"
          ]
        }
      ],
      "source": [
        "print(numeros.index(3))"
      ]
    },
    {
      "cell_type": "markdown",
      "metadata": {
        "id": "696WdZcBlAL8"
      },
      "source": [
        "### COUNT\n",
        "\n",
        "#### Método para contar a quantidade de vezes em que o item especificado se repete na tupla"
      ]
    },
    {
      "cell_type": "code",
      "execution_count": 13,
      "metadata": {
        "colab": {
          "base_uri": "https://localhost:8080/"
        },
        "id": "Yl684Iu8lI4R",
        "outputId": "27c7f617-7c9a-4d58-f21c-4846f35604db"
      },
      "outputs": [
        {
          "name": "stdout",
          "output_type": "stream",
          "text": [
            "2\n"
          ]
        }
      ],
      "source": [
        "numeros = (1, 2, 2, 3, 3, 4)\n",
        "print(numeros.count(3))"
      ]
    }
  ],
  "metadata": {
    "colab": {
      "authorship_tag": "ABX9TyNuhDyEQ9UtM+OVCqjxX5YI",
      "include_colab_link": true,
      "provenance": []
    },
    "kernelspec": {
      "display_name": "Python 3",
      "name": "python3"
    },
    "language_info": {
      "name": "python"
    }
  },
  "nbformat": 4,
  "nbformat_minor": 0
}
