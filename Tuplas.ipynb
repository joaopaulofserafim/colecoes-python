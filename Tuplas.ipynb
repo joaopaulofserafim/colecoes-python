{
  "nbformat": 4,
  "nbformat_minor": 0,
  "metadata": {
    "colab": {
      "provenance": [],
      "authorship_tag": "ABX9TyNuhDyEQ9UtM+OVCqjxX5YI",
      "include_colab_link": true
    },
    "kernelspec": {
      "name": "python3",
      "display_name": "Python 3"
    },
    "language_info": {
      "name": "python"
    }
  },
  "cells": [
    {
      "cell_type": "markdown",
      "metadata": {
        "id": "view-in-github",
        "colab_type": "text"
      },
      "source": [
        "<a href=\"https://colab.research.google.com/github/joaopaulofserafim/colecoes-python/blob/main/Tuplas.ipynb\" target=\"_parent\"><img src=\"https://colab.research.google.com/assets/colab-badge.svg\" alt=\"Open In Colab\"/></a>"
      ]
    },
    {
      "cell_type": "markdown",
      "source": [
        "# Tupla em python\n",
        "\n",
        "## Uma tupla em Python é uma coleção ordenada e imutável de elementos, definida usando parênteses `()`. Diferente das listas, uma vez criada, uma tupla não pode ser modificada, sendo ideal para armazenar dados constantes ou estruturas que não devem ser alteradas."
      ],
      "metadata": {
        "id": "XNYWiwR3hq3J"
      }
    },
    {
      "cell_type": "markdown",
      "source": [
        "### Exemplode tupla"
      ],
      "metadata": {
        "id": "4XJGUeCpiDAA"
      }
    },
    {
      "cell_type": "code",
      "source": [
        "marcas = (\n",
        "    \"Nike\", \"Adidas\", \"Puma\", \"Hugo Boss\", \"Gucci\"\n",
        ")\n",
        "\n",
        "### Imprimindo Lista\n",
        "print(marcas)\n",
        "\n",
        "### Imprimindo tipo da lista\n",
        "\n",
        "print(type(marcas))"
      ],
      "metadata": {
        "colab": {
          "base_uri": "https://localhost:8080/"
        },
        "id": "LHmUDjXYiFcX",
        "outputId": "4c6f3b25-e9c2-4d57-afbd-c655a8e8ddd1"
      },
      "execution_count": 2,
      "outputs": [
        {
          "output_type": "stream",
          "name": "stdout",
          "text": [
            "('Nike', 'Adidas', 'Puma', 'Hugo Boss', 'Gucci')\n",
            "<class 'tuple'>\n"
          ]
        }
      ]
    },
    {
      "cell_type": "markdown",
      "source": [
        "## Funções Tuplas"
      ],
      "metadata": {
        "id": "AmAtIYa7jMGD"
      }
    },
    {
      "cell_type": "markdown",
      "source": [
        "### SORTED()\n",
        "\n",
        "#### função para retornar a tupla de forma ordenada"
      ],
      "metadata": {
        "id": "pofBtssBjm__"
      }
    },
    {
      "cell_type": "code",
      "source": [
        "print(sorted(marcas))"
      ],
      "metadata": {
        "colab": {
          "base_uri": "https://localhost:8080/"
        },
        "id": "yDhbYLdHjwxv",
        "outputId": "9b86967d-9e97-4597-8f32-28941b9a7969"
      },
      "execution_count": 3,
      "outputs": [
        {
          "output_type": "stream",
          "name": "stdout",
          "text": [
            "['Adidas', 'Gucci', 'Hugo Boss', 'Nike', 'Puma']\n"
          ]
        }
      ]
    },
    {
      "cell_type": "markdown",
      "source": [
        "### SUM()\n",
        "\n",
        "#### Função para somar os valores de todos os itens da tupla"
      ],
      "metadata": {
        "id": "jhm07sUtj4Qp"
      }
    },
    {
      "cell_type": "code",
      "source": [
        "numeros = (1, 2, 3)\n",
        "print(sum(numeros))"
      ],
      "metadata": {
        "colab": {
          "base_uri": "https://localhost:8080/"
        },
        "id": "4j0tu36pkBkH",
        "outputId": "7c476742-af41-457e-ca5a-e6ac3b216ae5"
      },
      "execution_count": 7,
      "outputs": [
        {
          "output_type": "stream",
          "name": "stdout",
          "text": [
            "6\n"
          ]
        }
      ]
    },
    {
      "cell_type": "markdown",
      "source": [
        "### MIN()\n",
        "\n",
        "#### Função para retornar o item de menor valor da tupla"
      ],
      "metadata": {
        "id": "2HATTgrCkJpB"
      }
    },
    {
      "cell_type": "code",
      "source": [
        "print(min(numeros))"
      ],
      "metadata": {
        "colab": {
          "base_uri": "https://localhost:8080/"
        },
        "id": "9KVwa0ZDkPcv",
        "outputId": "df92a299-8023-4cdd-df7b-38ea9008404f"
      },
      "execution_count": 8,
      "outputs": [
        {
          "output_type": "stream",
          "name": "stdout",
          "text": [
            "1\n"
          ]
        }
      ]
    },
    {
      "cell_type": "markdown",
      "source": [
        "### MAX()\n",
        "\n",
        "#### Função para retornar o item de maior valor da tupla"
      ],
      "metadata": {
        "id": "ekGv2JOZkX83"
      }
    },
    {
      "cell_type": "code",
      "source": [
        "print(max(numeros))"
      ],
      "metadata": {
        "colab": {
          "base_uri": "https://localhost:8080/"
        },
        "id": "6dnyF2g3kdKB",
        "outputId": "34731acb-a4ab-41be-8d59-c69afed20f2d"
      },
      "execution_count": 9,
      "outputs": [
        {
          "output_type": "stream",
          "name": "stdout",
          "text": [
            "3\n"
          ]
        }
      ]
    },
    {
      "cell_type": "markdown",
      "source": [
        "## Métodos utilizados nas tuplas"
      ],
      "metadata": {
        "id": "0hSSEMONkogI"
      }
    },
    {
      "cell_type": "markdown",
      "source": [
        "### INDEX\n",
        "\n",
        "#### Método para indicar o indice ou posição em que o item se localiza na tupla"
      ],
      "metadata": {
        "id": "4tXimKMqksqX"
      }
    },
    {
      "cell_type": "code",
      "source": [
        "print(numeros.index(3))"
      ],
      "metadata": {
        "colab": {
          "base_uri": "https://localhost:8080/"
        },
        "id": "4pivnXobkyNF",
        "outputId": "3df54c17-30f1-4248-b959-0fa521ed35dc"
      },
      "execution_count": 11,
      "outputs": [
        {
          "output_type": "stream",
          "name": "stdout",
          "text": [
            "2\n"
          ]
        }
      ]
    },
    {
      "cell_type": "markdown",
      "source": [
        "### COUNT\n",
        "\n",
        "#### Método para contar a quantidade de vezes em que o item especificado se repete na tupla"
      ],
      "metadata": {
        "id": "696WdZcBlAL8"
      }
    },
    {
      "cell_type": "code",
      "source": [
        "numeros = (1, 2, 2, 3, 3, 4)\n",
        "print(numeros.count(3))"
      ],
      "metadata": {
        "colab": {
          "base_uri": "https://localhost:8080/"
        },
        "id": "Yl684Iu8lI4R",
        "outputId": "27c7f617-7c9a-4d58-f21c-4846f35604db"
      },
      "execution_count": 13,
      "outputs": [
        {
          "output_type": "stream",
          "name": "stdout",
          "text": [
            "2\n"
          ]
        }
      ]
    }
  ]
}