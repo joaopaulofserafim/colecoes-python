{
  "cells": [
    {
      "cell_type": "markdown",
      "metadata": {
        "colab_type": "text",
        "id": "view-in-github"
      },
      "source": [
        "<a href=\"https://colab.research.google.com/github/joaopaulofserafim/colecoes-python/blob/main/Conjuntos.ipynb\" target=\"_parent\"><img src=\"https://colab.research.google.com/assets/colab-badge.svg\" alt=\"Open In Colab\"/></a>"
      ]
    },
    {
      "cell_type": "markdown",
      "metadata": {
        "id": "imvMVOrnU4Av"
      },
      "source": [
        "\n",
        " # Conjunto em pyhton\n",
        " ## Um conjunto em Python é uma coleção não ordenada e sem elementos duplicados, útil para armazenar múltiplos itens e garantir que cada um seja único. Conjuntos são definidos pela palavra-chave `set()` ou usando chaves `{}`, e contêm apenas valores, sem pares. Eles são bem eficientes para verificar a presença de um item, pois garantem que não haverá duplicatas.\n"
      ]
    },
    {
      "cell_type": "markdown",
      "metadata": {
        "id": "QJ2ivi_JWafu"
      },
      "source": [
        "## Exemplo de conjunto"
      ]
    },
    {
      "cell_type": "code",
      "execution_count": null,
      "metadata": {
        "id": "oLrzFM7KWlY1"
      },
      "outputs": [],
      "source": [
        "desenhos = {\"Carros\", \"Divertidademente\",  \"Bob Esponja\", \"Os Incrivéis\"}"
      ]
    },
    {
      "cell_type": "markdown",
      "metadata": {
        "id": "BHs_yRMYYnwm"
      },
      "source": [
        "## Imprimindo o conjunto\n"
      ]
    },
    {
      "cell_type": "code",
      "execution_count": null,
      "metadata": {
        "colab": {
          "base_uri": "https://localhost:8080/"
        },
        "id": "OFMWkLscYrg5",
        "outputId": "2c32e027-6699-4a0d-c72c-dff96cb20212"
      },
      "outputs": [
        {
          "name": "stdout",
          "output_type": "stream",
          "text": [
            "{'Bob Esponja', 'Divertidademente', 'Carros', 'Os Incrivéis'}\n"
          ]
        }
      ],
      "source": [
        "print(desenhos);"
      ]
    },
    {
      "cell_type": "markdown",
      "metadata": {
        "id": "bTK0MwA5Y9BQ"
      },
      "source": [
        "## Tipo do conjunto"
      ]
    },
    {
      "cell_type": "code",
      "execution_count": null,
      "metadata": {
        "colab": {
          "base_uri": "https://localhost:8080/"
        },
        "id": "6WHdmNzoY__G",
        "outputId": "e1d1c6ea-3e59-4777-f4c4-843c5bae896d"
      },
      "outputs": [
        {
          "name": "stdout",
          "output_type": "stream",
          "text": [
            "{'Bob Esponja', 'Divertidademente', 'Carros', 'Os Incrivéis'}\n",
            "<class 'set'>\n"
          ]
        }
      ],
      "source": [
        "print(desenhos)\n",
        "print(type(desenhos))"
      ]
    },
    {
      "cell_type": "markdown",
      "metadata": {
        "id": "lRs0Unbxa-oP"
      },
      "source": [
        "# Métodos utilizados em conjuntos\n",
        "\n",
        "\n"
      ]
    },
    {
      "cell_type": "markdown",
      "metadata": {
        "id": "2-efHRRYbcDu"
      },
      "source": [
        "## CLEAR\n",
        "\n",
        "### Método utilizado para limpar todos os itens de um conjunto."
      ]
    },
    {
      "cell_type": "code",
      "execution_count": null,
      "metadata": {
        "colab": {
          "base_uri": "https://localhost:8080/"
        },
        "id": "uJBoeHJ-bxhQ",
        "outputId": "e0e3b674-d795-4781-c061-ed784f66a13c"
      },
      "outputs": [
        {
          "name": "stdout",
          "output_type": "stream",
          "text": [
            "set() {'Nicolas', 'Carlos', 'Luis', 'Bernardo'}\n"
          ]
        }
      ],
      "source": [
        "c1 = {\n",
        "    \"João\", \"Pedro\", \"Joaquim\"\n",
        "}\n",
        "\n",
        "c2 = {\n",
        "    \"Luis\", \"Carlos\", \"Bernardo\", \"Nicolas\"\n",
        "}\n",
        "\n",
        "c1.clear()\n",
        "\n",
        "print(c1, c2)"
      ]
    },
    {
      "cell_type": "markdown",
      "metadata": {
        "id": "UBpehseCdSz9"
      },
      "source": [
        "## ISSUPERSET\n",
        "\n",
        "### O método issuperset em Python é usado para verificar se um conjunto é um superconjunto de outro conjunto. Ou seja, ele verifica se todos os elementos do conjunto especificado estão presentes no conjunto que chama o método."
      ]
    },
    {
      "cell_type": "code",
      "execution_count": null,
      "metadata": {
        "colab": {
          "base_uri": "https://localhost:8080/"
        },
        "id": "SR4p0SwNmntp",
        "outputId": "2e446f58-4517-4957-8ba4-2d9cfb4abf12"
      },
      "outputs": [
        {
          "name": "stdout",
          "output_type": "stream",
          "text": [
            "False\n"
          ]
        }
      ],
      "source": [
        "c1 = {\n",
        "    \"João\", \"Pedro\", \"Yuri\",\n",
        "}\n",
        "\n",
        "c2 = {\n",
        "    \"João\", \"Pedro\", \"Yuri\", \"Lucas\"\n",
        "}\n",
        "\n",
        "c3 = c1.issuperset(c2)\n",
        "\n",
        "print(c3)"
      ]
    },
    {
      "cell_type": "markdown",
      "metadata": {
        "id": "Rvm9m5awn2er"
      },
      "source": [
        "## ISSUBSET\n",
        "\n",
        "### O método issubset() em Python é usado para verificar se um conjunto é subconjunto de outro. Ou seja, ele retorna True se todos os elementos do conjunto de origem estiverem presentes no conjunto especificado, caso contrário, retorna False."
      ]
    },
    {
      "cell_type": "code",
      "execution_count": null,
      "metadata": {
        "colab": {
          "base_uri": "https://localhost:8080/"
        },
        "id": "XFxgJ8k6okFy",
        "outputId": "eb1bceb4-4c3e-4f14-f315-e5bf31ea28b0"
      },
      "outputs": [
        {
          "name": "stdout",
          "output_type": "stream",
          "text": [
            "False\n"
          ]
        }
      ],
      "source": [
        "c1 = {\n",
        "    \"João\", \"Pedro\", \"Yuri\",\n",
        "}\n",
        "\n",
        "c2 = {\n",
        "    \"João\", \"Pedro\", \"Yuri\", \"Lucas\"\n",
        "}\n",
        "\n",
        "c3 = c1.issubset(c2)\n",
        "\n",
        "print(c3)"
      ]
    },
    {
      "cell_type": "markdown",
      "metadata": {
        "id": "wVbAnkgbo1jw"
      },
      "source": [
        "## SYMMETRIC_DIFFERENCE\n",
        "\n",
        "### método para retornar um conjunto que contenha valores com diferença simétrica entre os dois conjuntos, ou seja, ele irá comparar os itens de cada conjunto , e retonar os itens que não são iguais entre os dois conjuntos"
      ]
    },
    {
      "cell_type": "code",
      "execution_count": null,
      "metadata": {
        "colab": {
          "base_uri": "https://localhost:8080/"
        },
        "id": "Tcct0jlwpior",
        "outputId": "94e517c5-5c01-49a1-dc3a-28de1386a366"
      },
      "outputs": [
        {
          "name": "stdout",
          "output_type": "stream",
          "text": [
            "{'Lucas'}\n"
          ]
        }
      ],
      "source": [
        "c1 = {\n",
        "    \"João\", \"Luiz\", \"Lucas\", \"Vitor\"\n",
        "}\n",
        "\n",
        "c2 = {\n",
        "    \"Luiz\", \"Vitor\", \"João\"\n",
        "}\n",
        "\n",
        "dif_sime = c1.symmetric_difference(c2)\n",
        "print(dif_sime)"
      ]
    },
    {
      "cell_type": "markdown",
      "metadata": {
        "id": "D9gPAawcrDph"
      },
      "source": [
        "## DIFFERENCE\n",
        "\n",
        "### método para retornar os itens que possui no primeiro conjunto, porém não se repete ao segundo conjunto"
      ]
    },
    {
      "cell_type": "code",
      "execution_count": null,
      "metadata": {
        "colab": {
          "base_uri": "https://localhost:8080/"
        },
        "id": "ZJwNzGcyrMY6",
        "outputId": "faf84cdf-d913-4d55-a0b6-ffe2b0284b9c"
      },
      "outputs": [
        {
          "name": "stdout",
          "output_type": "stream",
          "text": [
            "{'João', 'Vitor', 'Kleber', 'Denilson'}\n"
          ]
        }
      ],
      "source": [
        "c1 = {\n",
        "    \"João\", \"Denilson\", \"Kleber\", \"Vitor\"\n",
        "}\n",
        "\n",
        "c2 = {\n",
        "    \"Lucas\",\n",
        "}\n",
        "\n",
        "diferenca = c1.difference(c2)\n",
        "print(diferenca)"
      ]
    },
    {
      "cell_type": "markdown",
      "metadata": {
        "id": "AH7rh6Ejsb_i"
      },
      "source": [
        "## INTERSECTION\n",
        "\n",
        "### Utilizamos esse método para retornar um item que contém repetição em ambos os conjuntos"
      ]
    },
    {
      "cell_type": "code",
      "execution_count": null,
      "metadata": {
        "colab": {
          "base_uri": "https://localhost:8080/"
        },
        "id": "MS-cEXw-smGJ",
        "outputId": "a631ad3e-5891-4443-db63-e0b15be72940"
      },
      "outputs": [
        {
          "name": "stdout",
          "output_type": "stream",
          "text": [
            "{'Um homem de sorte', 'A escolha', 'Diario de uma paixão', 'O retorno', 'O milagre', 'O guardião', 'O melhor de mim', 'O desejo', 'Um porto seguro', 'Noites de tormenta', 'A última música'}\n"
          ]
        }
      ],
      "source": [
        "livrosNicholasSparks = {\"O desejo\", \"O retorno\", \"O melhor de mim\",\"O milagre\", \"A última música\", \"A escolha\", \"Um porto seguro\", \"Um homem de sorte\", \"Diario de uma paixão\", \"Noites de tormenta\", \"O guardião\",\"O milagre\"}\n",
        "\n",
        "intersecao = livrosNicholasSparks.intersection(livrosNicholasSparks)\n",
        "print(intersecao)\n"
      ]
    },
    {
      "cell_type": "markdown",
      "metadata": {
        "id": "ws2WHE2uuqNS"
      },
      "source": [
        "## UNION\n",
        "\n",
        "### método para unir dois conjuntos de forma aleatória"
      ]
    },
    {
      "cell_type": "code",
      "execution_count": null,
      "metadata": {
        "colab": {
          "base_uri": "https://localhost:8080/"
        },
        "id": "UksHHUz9uv8b",
        "outputId": "fe066963-0183-4914-e987-6cee95a5ecab"
      },
      "outputs": [
        {
          "name": "stdout",
          "output_type": "stream",
          "text": [
            "{'Giovanna', 'Nicolli', 'João', 'Vitor', 'Pedro'}\n"
          ]
        }
      ],
      "source": [
        "Ex1 = {\n",
        "    \"João\" , \"Pedro\", \"Vitor\"\n",
        "}\n",
        "\n",
        "Ex2 = {\n",
        "    \"Giovanna\", \"Nicolli\"\n",
        "}\n",
        "\n",
        "uniao = Ex1.union(Ex2)\n",
        "print(uniao)"
      ]
    },
    {
      "cell_type": "markdown",
      "metadata": {
        "id": "X_4O13kzvMkJ"
      },
      "source": [
        "## POP\n",
        "\n",
        "###  método para que seja removido um item de forma aleatória pois não podemos definir"
      ]
    },
    {
      "cell_type": "code",
      "execution_count": null,
      "metadata": {
        "colab": {
          "base_uri": "https://localhost:8080/"
        },
        "id": "Hn_0f_D4vUzD",
        "outputId": "cf61e782-916a-40b0-e415-cf0c7cf77abb"
      },
      "outputs": [
        {
          "name": "stdout",
          "output_type": "stream",
          "text": [
            "1\n",
            "{2, 3, 4, 5}\n"
          ]
        }
      ],
      "source": [
        "lista = {\n",
        "    1, 2, 3, 4, 5\n",
        "}\n",
        "\n",
        "item = lista.pop()\n",
        "print(lista)"
      ]
    },
    {
      "cell_type": "markdown",
      "metadata": {
        "id": "DHQcHU0Sw9pa"
      },
      "source": [
        "## DISCARD\n",
        "\n",
        "### método para remover o item especificado do conjunto, caso não seja especificado um item que contenha no conjunto, ele não fará nada"
      ]
    },
    {
      "cell_type": "code",
      "execution_count": null,
      "metadata": {
        "colab": {
          "base_uri": "https://localhost:8080/"
        },
        "id": "oiBj2omuxDVW",
        "outputId": "bec63d14-a89e-4dff-dea0-a95331a41da4"
      },
      "outputs": [
        {
          "name": "stdout",
          "output_type": "stream",
          "text": [
            "None\n",
            "{'test2'}\n"
          ]
        }
      ],
      "source": [
        "lista = {\n",
        "   \"test\", \"test2\"\n",
        "}\n",
        "\n",
        "discard = lista.discard(\"test\")\n",
        "print(lista)"
      ]
    },
    {
      "cell_type": "markdown",
      "metadata": {
        "id": "ogwXaRPrxvQM"
      },
      "source": [
        "## REMOVE\n",
        "\n",
        "### método para remover o item especificado do conjunto, caso não seja especificado ele retornará um erro"
      ]
    },
    {
      "cell_type": "code",
      "execution_count": null,
      "metadata": {
        "colab": {
          "base_uri": "https://localhost:8080/"
        },
        "id": "rY4G6CwDx0iE",
        "outputId": "a4f6e17e-f3ee-4537-8330-f8e18215ebe2"
      },
      "outputs": [
        {
          "name": "stdout",
          "output_type": "stream",
          "text": [
            "None\n",
            "{'Vitor', 'Lucas', 'Pedro'}\n"
          ]
        }
      ],
      "source": [
        "lista4 = {\n",
        "    \"João\", \"Pedro\", \"Vitor\", \"Lucas\"\n",
        "}\n",
        "\n",
        "remove = lista4.remove(\"João\")\n",
        "print(lista4)"
      ]
    },
    {
      "cell_type": "markdown",
      "metadata": {
        "id": "HAM9-qrAzPTl"
      },
      "source": [
        "## ADD\n",
        "### método para adicionar um item ao conjunto\n",
        "\n"
      ]
    },
    {
      "cell_type": "code",
      "execution_count": null,
      "metadata": {
        "colab": {
          "base_uri": "https://localhost:8080/"
        },
        "id": "lEb6BLGyzVSU",
        "outputId": "03d3c550-7ef3-4999-a604-a89f3c04c5c8"
      },
      "outputs": [
        {
          "name": "stdout",
          "output_type": "stream",
          "text": [
            "{'Yago', 'Giovanni', 'Matheus', 'João'}\n"
          ]
        }
      ],
      "source": [
        "lista6 = {\n",
        "    \"Giovanni\", \"Matheus\", \"Yago\"\n",
        "}\n",
        "\n",
        "add = lista6.add(\"João\")\n",
        "print(lista6)"
      ]
    }
  ],
  "metadata": {
    "colab": {
      "authorship_tag": "ABX9TyPivKXoDWIefWcZGmusTmbT",
      "include_colab_link": true,
      "provenance": []
    },
    "kernelspec": {
      "display_name": "Python 3",
      "name": "python3"
    },
    "language_info": {
      "name": "python"
    }
  },
  "nbformat": 4,
  "nbformat_minor": 0
}
