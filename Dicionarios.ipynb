{
  "nbformat": 4,
  "nbformat_minor": 0,
  "metadata": {
    "colab": {
      "provenance": [],
      "authorship_tag": "ABX9TyMNG8ImgzU++F50noqLANQY",
      "include_colab_link": true
    },
    "kernelspec": {
      "name": "python3",
      "display_name": "Python 3"
    },
    "language_info": {
      "name": "python"
    }
  },
  "cells": [
    {
      "cell_type": "markdown",
      "metadata": {
        "id": "view-in-github",
        "colab_type": "text"
      },
      "source": [
        "<a href=\"https://colab.research.google.com/github/joaopaulofserafim/colecoes-python/blob/main/Dicionarios.ipynb\" target=\"_parent\"><img src=\"https://colab.research.google.com/assets/colab-badge.svg\" alt=\"Open In Colab\"/></a>"
      ]
    },
    {
      "cell_type": "markdown",
      "source": [
        "# O que é dicionário (Python)\n",
        "\n",
        "## Um dicionário em Python é uma estrutura de dados que armazena pares de chave-valor, onde as chaves são únicas e imutáveis e os valores podem ser de qualquer tipo. São mutáveis, permitem a adição, modificação e remoção de itens, e mantêm a ordem de inserção a partir da versão 3.7. Métodos úteis incluem `keys()`, `values()`, e `items()`, facilitando a manipulação e iteração dos dados.\n"
      ],
      "metadata": {
        "id": "wPHaadWpMy2J"
      }
    },
    {
      "cell_type": "markdown",
      "source": [
        "### Exemplo de dicionário"
      ],
      "metadata": {
        "id": "m0HABAYMNckr"
      }
    },
    {
      "cell_type": "code",
      "source": [
        "Filme = {\n",
        "   \"Desenho\": \"Carros\",\n",
        "   \"Terror\": \"Anabelle\",\n",
        "   \"Drama\": \"A Culpa é das estrelas\"\n",
        "}\n",
        "\n",
        "### Imprimindo\n",
        "print(Filme)\n",
        "\n",
        "#Imprimindo o tipo da lista\n",
        "print(type(Filme))"
      ],
      "metadata": {
        "colab": {
          "base_uri": "https://localhost:8080/"
        },
        "id": "-TXZj3JdNm10",
        "outputId": "5c18094a-8a92-4e31-d9fb-4fa0a36df402"
      },
      "execution_count": 6,
      "outputs": [
        {
          "output_type": "stream",
          "name": "stdout",
          "text": [
            "{'Desenho': 'Carros', 'Terror': 'Anabelle', 'Drama': 'A Culpa é das estrelas'}\n",
            "<class 'dict'>\n"
          ]
        }
      ]
    },
    {
      "cell_type": "markdown",
      "source": [
        "## Métodos de dicionários\n",
        "\n",
        "### FROMKEYS\n",
        "\n",
        "#### O método `fromkeys` em Python cria um novo dicionário com chaves fornecidas e um valor padrão atribuído a todas elas. Para usá-lo, você fornece uma coleção de chaves e um valor, e ele retorna um dicionário onde cada chave está associada ao valor especificado. Por exemplo, `dict.fromkeys(['nome', 'idade', 'curso'], 'indefinido')` cria um dicionário onde todas as chaves têm o valor 'indefinido'. Isso é útil para inicializar dicionários com valores uniformes de maneira eficiente."
      ],
      "metadata": {
        "id": "iURtaanyPQd_"
      }
    },
    {
      "cell_type": "code",
      "source": [
        "Desenhos = [\"Aviões\", \"Gato de botas\", \"Bob esponja\"]\n",
        "\n",
        "publico = \"Filme para crianças\"\n",
        "\n",
        "test = Filme.fromkeys(Desenhos, publico)\n",
        "print(test)"
      ],
      "metadata": {
        "colab": {
          "base_uri": "https://localhost:8080/"
        },
        "id": "Ogee0nLpPyjM",
        "outputId": "3fa5ffe2-8925-4e32-89ce-f8d521339f90"
      },
      "execution_count": 8,
      "outputs": [
        {
          "output_type": "stream",
          "name": "stdout",
          "text": [
            "{'Aviões': 'Para crianças', 'Gato de botas': 'Para crianças', 'Bob esponja': 'Para crianças'}\n"
          ]
        }
      ]
    },
    {
      "cell_type": "markdown",
      "source": [
        "### Clear\n",
        "\n",
        "#### Método para apagar todas as chaves e valores que contém o dicionário informado"
      ],
      "metadata": {
        "id": "sOddMYTrRDSk"
      }
    },
    {
      "cell_type": "code",
      "source": [
        "Filme.clear()\n",
        "print(Filme)"
      ],
      "metadata": {
        "colab": {
          "base_uri": "https://localhost:8080/"
        },
        "id": "MAab2dWnRNfU",
        "outputId": "68da03a7-09d3-46eb-82cd-02d18491dc73"
      },
      "execution_count": 9,
      "outputs": [
        {
          "output_type": "stream",
          "name": "stdout",
          "text": [
            "{}\n"
          ]
        }
      ]
    },
    {
      "cell_type": "markdown",
      "source": [
        "### SETDEFAULT\n",
        "\n",
        "#### Método para consultar o valor que contém na chave especificada e armazenar em uma variável"
      ],
      "metadata": {
        "id": "SuSHoUwsRbKz"
      }
    },
    {
      "cell_type": "code",
      "source": [
        "Filme =  {\n",
        "  \"Desenho\": \"Carros\",\n",
        "  \"Terror\": \"Anabelle\",\n",
        "  \"Drama\": \"A Culpa é das estrelas\"\n",
        "}\n",
        "opcao = Filme.setdefault(\"Desenho\" )\n",
        "print(opcao)"
      ],
      "metadata": {
        "colab": {
          "base_uri": "https://localhost:8080/"
        },
        "id": "a4BWnZ67RltY",
        "outputId": "28d0d4ec-0035-4a28-8fe9-84bf6751fd7e"
      },
      "execution_count": 21,
      "outputs": [
        {
          "output_type": "stream",
          "name": "stdout",
          "text": [
            "Carros\n"
          ]
        }
      ]
    },
    {
      "cell_type": "markdown",
      "source": [
        "### GET\n",
        "\n",
        "#### Método para imprimir um valor de uma chave existente, caso não exista a chave fornecida retorna 'NONE'\n"
      ],
      "metadata": {
        "id": "1Aeag2N8Uatf"
      }
    },
    {
      "cell_type": "code",
      "source": [
        "Terror = Filme.get(\"Terror\")\n",
        "Drama = Filme.get(\"Drama\")\n",
        "print(Terror, Drama)"
      ],
      "metadata": {
        "colab": {
          "base_uri": "https://localhost:8080/"
        },
        "id": "wLaRTAZBUlPr",
        "outputId": "12269abf-ff86-47e7-9082-4ce305b46f71"
      },
      "execution_count": 22,
      "outputs": [
        {
          "output_type": "stream",
          "name": "stdout",
          "text": [
            "Anabelle A Culpa é das estrelas\n"
          ]
        }
      ]
    },
    {
      "cell_type": "markdown",
      "source": [
        "### POPITEM\n",
        "\n",
        "####  remove o último item do dicionário"
      ],
      "metadata": {
        "id": "_W4zFRIEVLzD"
      }
    },
    {
      "cell_type": "code",
      "source": [
        "Filme.popitem()\n",
        "print(Filme)"
      ],
      "metadata": {
        "colab": {
          "base_uri": "https://localhost:8080/"
        },
        "id": "fIhtFzMaVTZN",
        "outputId": "1161c44f-b874-4c18-cb3e-2fe361178eda"
      },
      "execution_count": 23,
      "outputs": [
        {
          "output_type": "stream",
          "name": "stdout",
          "text": [
            "{'Desenho': 'Carros', 'Terror': 'Anabelle'}\n"
          ]
        }
      ]
    },
    {
      "cell_type": "markdown",
      "source": [
        "### POP\n",
        "\n",
        "####  remove itens selecionados do dicionário"
      ],
      "metadata": {
        "id": "lCeE-MPdWMaV"
      }
    },
    {
      "cell_type": "code",
      "source": [
        "Filme =  {\n",
        "  \"Desenho\": \"Carros\",\n",
        "  \"Terror\": \"Anabelle\",\n",
        "  \"Drama\": \"A Culpa é das estrelas\"\n",
        "}\n",
        "Filme.pop(\"Desenho\")\n",
        "print(Filme)"
      ],
      "metadata": {
        "colab": {
          "base_uri": "https://localhost:8080/"
        },
        "id": "PjqjER3sWRQb",
        "outputId": "538a9890-13f8-45ef-e8f8-a0ad9b6ad18c"
      },
      "execution_count": 25,
      "outputs": [
        {
          "output_type": "stream",
          "name": "stdout",
          "text": [
            "{'Terror': 'Anabelle', 'Drama': 'A Culpa é das estrelas'}\n"
          ]
        }
      ]
    },
    {
      "cell_type": "markdown",
      "source": [
        "### VALUES\n",
        "\n",
        "####  imprimi somente as chaves que contém no dicionário"
      ],
      "metadata": {
        "id": "HigmCJeRWjBk"
      }
    },
    {
      "cell_type": "code",
      "source": [
        "chaves = Filme.keys()\n",
        "print(conteudo)"
      ],
      "metadata": {
        "colab": {
          "base_uri": "https://localhost:8080/"
        },
        "id": "x7oLFjdLWobs",
        "outputId": "598fcd2c-3ef9-40e2-851c-4ba2628e7ef3"
      },
      "execution_count": 26,
      "outputs": [
        {
          "output_type": "stream",
          "name": "stdout",
          "text": [
            "dict_keys(['Terror', 'Drama'])\n"
          ]
        }
      ]
    },
    {
      "cell_type": "markdown",
      "source": [
        "### ITEMS\n",
        "\n",
        "####  imprimi o dicionário, tanto as chaves como seus valores atribuidos"
      ],
      "metadata": {
        "id": "jeLlJRkHW5-O"
      }
    },
    {
      "cell_type": "code",
      "source": [
        "items = Filme.items()\n",
        "print(items)"
      ],
      "metadata": {
        "colab": {
          "base_uri": "https://localhost:8080/"
        },
        "id": "1t0luneZW_Jb",
        "outputId": "0e41869b-4139-49ec-c39a-2c6f72800d1c"
      },
      "execution_count": 27,
      "outputs": [
        {
          "output_type": "stream",
          "name": "stdout",
          "text": [
            "dict_items([('Terror', 'Anabelle'), ('Drama', 'A Culpa é das estrelas')])\n"
          ]
        }
      ]
    },
    {
      "cell_type": "markdown",
      "source": [
        "### UPDATE\n",
        "\n",
        "#### Método para adicionar um item e seu valor ao dicionário"
      ],
      "metadata": {
        "id": "otW9gAiEXQSD"
      }
    },
    {
      "cell_type": "code",
      "source": [
        "Filme.update({\"Herois\": \"Vingadores\"})\n",
        "print(Filme)"
      ],
      "metadata": {
        "colab": {
          "base_uri": "https://localhost:8080/"
        },
        "id": "mdIRijI8XeCY",
        "outputId": "aee3ea63-a22c-4293-e341-2fb3b108cc8c"
      },
      "execution_count": 30,
      "outputs": [
        {
          "output_type": "stream",
          "name": "stdout",
          "text": [
            "{'Terror': 'Anabelle', 'Drama': 'A Culpa é das estrelas', 'Herois': 'Vingadores'}\n"
          ]
        }
      ]
    },
    {
      "cell_type": "markdown",
      "source": [
        "### ATUALIZA VALOR\n",
        "\n"
      ],
      "metadata": {
        "id": "kOBARZXiYQMT"
      }
    },
    {
      "cell_type": "code",
      "source": [
        "Filme['Terror'] = \"It: A coisa\"\n",
        "print(Filme)"
      ],
      "metadata": {
        "colab": {
          "base_uri": "https://localhost:8080/"
        },
        "id": "Yr2AJ99fYTnC",
        "outputId": "fdc57219-890a-4e88-b96d-cd31c67a8f87"
      },
      "execution_count": 31,
      "outputs": [
        {
          "output_type": "stream",
          "name": "stdout",
          "text": [
            "{'Terror': 'It: A coisa', 'Drama': 'A Culpa é das estrelas', 'Herois': 'Vingadores'}\n"
          ]
        }
      ]
    }
  ]
}