{
  "nbformat": 4,
  "nbformat_minor": 0,
  "metadata": {
    "colab": {
      "provenance": [],
      "authorship_tag": "ABX9TyOwpqeoFPEN2/y5Ws+rr9Kx",
      "include_colab_link": true
    },
    "kernelspec": {
      "name": "python3",
      "display_name": "Python 3"
    },
    "language_info": {
      "name": "python"
    }
  },
  "cells": [
    {
      "cell_type": "markdown",
      "metadata": {
        "id": "view-in-github",
        "colab_type": "text"
      },
      "source": [
        "<a href=\"https://colab.research.google.com/github/joaopaulofserafim/colecoes-python/blob/main/Listas.ipynb\" target=\"_parent\"><img src=\"https://colab.research.google.com/assets/colab-badge.svg\" alt=\"Open In Colab\"/></a>"
      ]
    },
    {
      "cell_type": "markdown",
      "source": [
        "## Lista em python\n",
        "\n",
        "### Uma lista em Python é uma estrutura de dados flexível e mutável usada para armazenar uma sequência ordenada de elementos, que podem ser de qualquer tipo. Definida por colchetes `[]`, permite acesso a seus elementos através de índices numéricos, começando do zero. Essa estrutura suporta operações como adição, remoção e modificação de elementos, sendo amplamente utilizada pela sua capacidade de lidar eficientemente com dados variados e manipulações dinâmicas."
      ],
      "metadata": {
        "id": "UxEWqrP8bZB9"
      }
    },
    {
      "cell_type": "markdown",
      "source": [
        "### Exemplo de lista"
      ],
      "metadata": {
        "id": "nnZ6x6ZecILg"
      }
    },
    {
      "cell_type": "code",
      "source": [
        "Carros = [\"Palio\", \"Jetta\", \"Passat\", \"Mustang\"]\n",
        "\n",
        "### Imprimindo lista\n",
        "print(Carros)\n",
        "\n",
        "### Imprimindo tipo da lista\n",
        "print(type(Carros))"
      ],
      "metadata": {
        "colab": {
          "base_uri": "https://localhost:8080/"
        },
        "id": "5LAHGMX7cEyn",
        "outputId": "07993e41-1871-4c47-9ac3-28db5885f8b5"
      },
      "execution_count": 2,
      "outputs": [
        {
          "output_type": "stream",
          "name": "stdout",
          "text": [
            "['Palio', 'Jetta', 'Passat', 'Mustang']\n",
            "<class 'list'>\n"
          ]
        }
      ]
    },
    {
      "cell_type": "markdown",
      "source": [],
      "metadata": {
        "id": "8jpPjW0TemMA"
      }
    },
    {
      "cell_type": "markdown",
      "source": [
        "## Métodos utilizados em listas\n",
        "\n"
      ],
      "metadata": {
        "id": "odxgV47SdPHb"
      }
    },
    {
      "cell_type": "markdown",
      "source": [
        "### Clear\n",
        "\n",
        "#### Método para limpar todos os itens da lista"
      ],
      "metadata": {
        "id": "qeNhOPKzdT_P"
      }
    },
    {
      "cell_type": "code",
      "source": [
        "Carros.clear()\n",
        "print(Carros)"
      ],
      "metadata": {
        "colab": {
          "base_uri": "https://localhost:8080/"
        },
        "id": "sikvx0W9deig",
        "outputId": "4de5d45b-78f0-4864-c4df-73a46df2447d"
      },
      "execution_count": 3,
      "outputs": [
        {
          "output_type": "stream",
          "name": "stdout",
          "text": [
            "[]\n"
          ]
        }
      ]
    },
    {
      "cell_type": "markdown",
      "source": [
        "### Reverse\n",
        "\n",
        "#### Método utilizado para ordenar os itens da lista em ordem crescente"
      ],
      "metadata": {
        "id": "3X3m-cVydnbQ"
      }
    },
    {
      "cell_type": "code",
      "source": [
        "Lista = [9,8,7,6,5]\n",
        "Lista.sort()\n",
        "print(Lista)"
      ],
      "metadata": {
        "colab": {
          "base_uri": "https://localhost:8080/"
        },
        "id": "82roEmZEeeax",
        "outputId": "fdddf119-55d3-4dd2-d925-07a2921ed8d9"
      },
      "execution_count": 5,
      "outputs": [
        {
          "output_type": "stream",
          "name": "stdout",
          "text": [
            "[5, 6, 7, 8, 9]\n"
          ]
        }
      ]
    },
    {
      "cell_type": "markdown",
      "source": [
        "### Count\n",
        "\n",
        "#### Método para contar quantas vezes aquele item se repete na lista\n"
      ],
      "metadata": {
        "id": "kYBG7yrpe0uY"
      }
    },
    {
      "cell_type": "code",
      "source": [
        "Lista2 = [1, 2, 2, 3, 4, 4]\n",
        "print(Lista2.count(4))"
      ],
      "metadata": {
        "colab": {
          "base_uri": "https://localhost:8080/"
        },
        "id": "xQMdPkjre74w",
        "outputId": "0fbf279e-c7aa-4b65-afbb-3da3ca400f67"
      },
      "execution_count": 7,
      "outputs": [
        {
          "output_type": "stream",
          "name": "stdout",
          "text": [
            "2\n"
          ]
        }
      ]
    },
    {
      "cell_type": "markdown",
      "source": [
        "### POP\n",
        "\n",
        "#### Método para remover um item através de seu indice especificado da lista"
      ],
      "metadata": {
        "id": "sFoHn2vbfMja"
      }
    },
    {
      "cell_type": "code",
      "source": [
        "Lista2.pop(0)\n",
        "print(Lista2)"
      ],
      "metadata": {
        "colab": {
          "base_uri": "https://localhost:8080/"
        },
        "id": "z1CfjitCfRm-",
        "outputId": "0c8dbd74-abf3-4c7e-e859-893128bdf535"
      },
      "execution_count": 8,
      "outputs": [
        {
          "output_type": "stream",
          "name": "stdout",
          "text": [
            "[2, 2, 3, 4, 4]\n"
          ]
        }
      ]
    },
    {
      "cell_type": "markdown",
      "source": [
        "### Remove\n",
        "\n",
        "#### Método para remover o item que foi especificado da lista"
      ],
      "metadata": {
        "id": "XPcddycAfcBx"
      }
    },
    {
      "cell_type": "code",
      "source": [
        "Lista2.remove(3)\n",
        "print(Lista2)"
      ],
      "metadata": {
        "colab": {
          "base_uri": "https://localhost:8080/"
        },
        "id": "ZMi3Ef6efgga",
        "outputId": "9d996345-7b19-417c-8486-a4c72ac43ae9"
      },
      "execution_count": 9,
      "outputs": [
        {
          "output_type": "stream",
          "name": "stdout",
          "text": [
            "[2, 2, 4, 4]\n"
          ]
        }
      ]
    },
    {
      "cell_type": "markdown",
      "source": [
        "### Insert\n",
        "\n",
        "#### Método para adicionar um item à lista, porém em uma posição especificada"
      ],
      "metadata": {
        "id": "BtzlDBtTfnhg"
      }
    },
    {
      "cell_type": "code",
      "source": [
        "Lista2.insert(4, 5)\n",
        "print(Lista2)"
      ],
      "metadata": {
        "colab": {
          "base_uri": "https://localhost:8080/"
        },
        "id": "vSfP0uVbfrSl",
        "outputId": "9e888795-7ea5-43e3-de62-bea24155966d"
      },
      "execution_count": 10,
      "outputs": [
        {
          "output_type": "stream",
          "name": "stdout",
          "text": [
            "[2, 2, 4, 4, 5]\n"
          ]
        }
      ]
    },
    {
      "cell_type": "markdown",
      "source": [
        "### Append\n",
        "\n",
        "####  Método para adicionar um item à última posição da lista"
      ],
      "metadata": {
        "id": "_A_3LKw7f4gJ"
      }
    },
    {
      "cell_type": "code",
      "source": [
        "Lista2.append(6)\n",
        "print(Lista2)"
      ],
      "metadata": {
        "colab": {
          "base_uri": "https://localhost:8080/"
        },
        "id": "yTJIb23mf9-s",
        "outputId": "c87228fe-41de-4986-cbf0-d527e90fcc75"
      },
      "execution_count": 12,
      "outputs": [
        {
          "output_type": "stream",
          "name": "stdout",
          "text": [
            "[2, 2, 4, 4, 5, 6]\n"
          ]
        }
      ]
    },
    {
      "cell_type": "markdown",
      "source": [
        "### Extend\n",
        "\n",
        "####  Método para juntar uma lista ao final da outra lista"
      ],
      "metadata": {
        "id": "YJNFkc_VgOZQ"
      }
    },
    {
      "cell_type": "code",
      "source": [
        "numeros = [\"Um\", \"Dois\", \"Três\", \"Quatro\"]\n",
        "Lista2.extend(numeros)\n",
        "print(Lista2)"
      ],
      "metadata": {
        "colab": {
          "base_uri": "https://localhost:8080/"
        },
        "id": "dWowMA4kgVaf",
        "outputId": "cf6ba111-fbc1-4f38-dce6-12e3fa30cfd2"
      },
      "execution_count": 14,
      "outputs": [
        {
          "output_type": "stream",
          "name": "stdout",
          "text": [
            "[2, 2, 4, 4, 5, 6, 'Um', 'Dois', 'Três', 'Quatro']\n"
          ]
        }
      ]
    }
  ]
}